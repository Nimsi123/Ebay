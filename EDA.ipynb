{
 "cells": [
  {
   "cell_type": "markdown",
   "id": "0bdc877f",
   "metadata": {},
   "source": [
    "# eBayScraper: An Analysis on Scraped Data\n",
    "\n",
    "The data in [aggregate.csv](./aggregate.csv) are updated periodically with newly scraped data from [ebay.com](https://www.ebay.com/). This dataset mainly focuses on electronic goods.\n",
    "\n",
    "Below lists a few important details of how the data are collected.\n",
    "* This data is not representative of all sales. Instead, this data is limited to transactions posted on [ebay.com](https://www.ebay.com/).\n",
    "* Products were added to the scraper at different points in time. For this reason, items like the Apple Airpods Max do not have data earlier than December 15th, 2020 while other items, like the Apple iPhone 8 are found as early as August 9th, 2020."
   ]
  },
  {
   "cell_type": "code",
   "execution_count": 1,
   "id": "4faea280",
   "metadata": {},
   "outputs": [],
   "source": [
    "import pandas as pd\n",
    "import seaborn as sns"
   ]
  },
  {
   "cell_type": "code",
   "execution_count": 2,
   "id": "88db8ffc",
   "metadata": {
    "scrolled": true
   },
   "outputs": [
    {
     "data": {
      "text/html": [
       "<div>\n",
       "<style scoped>\n",
       "    .dataframe tbody tr th:only-of-type {\n",
       "        vertical-align: middle;\n",
       "    }\n",
       "\n",
       "    .dataframe tbody tr th {\n",
       "        vertical-align: top;\n",
       "    }\n",
       "\n",
       "    .dataframe thead th {\n",
       "        text-align: right;\n",
       "    }\n",
       "</style>\n",
       "<table border=\"1\" class=\"dataframe\">\n",
       "  <thead>\n",
       "    <tr style=\"text-align: right;\">\n",
       "      <th></th>\n",
       "      <th>sale_condition</th>\n",
       "      <th>groupA</th>\n",
       "      <th>groupB</th>\n",
       "      <th>groupC</th>\n",
       "      <th>title</th>\n",
       "      <th>price</th>\n",
       "      <th>date</th>\n",
       "    </tr>\n",
       "  </thead>\n",
       "  <tbody>\n",
       "    <tr>\n",
       "      <th>0</th>\n",
       "      <td>Auction</td>\n",
       "      <td>calculator</td>\n",
       "      <td>calculator</td>\n",
       "      <td>ti-83 plus calculator</td>\n",
       "      <td>Texas Instruments Ti-83 Plus Graphing Calculator</td>\n",
       "      <td>12.10</td>\n",
       "      <td>2020-08-09</td>\n",
       "    </tr>\n",
       "    <tr>\n",
       "      <th>1</th>\n",
       "      <td>Auction</td>\n",
       "      <td>calculator</td>\n",
       "      <td>calculator</td>\n",
       "      <td>ti-83 plus calculator</td>\n",
       "      <td>TI-83 Plus Graphing Calculator Texas Instruments</td>\n",
       "      <td>3.99</td>\n",
       "      <td>2020-08-09</td>\n",
       "    </tr>\n",
       "    <tr>\n",
       "      <th>2</th>\n",
       "      <td>Auction</td>\n",
       "      <td>calculator</td>\n",
       "      <td>calculator</td>\n",
       "      <td>ti-83 plus calculator</td>\n",
       "      <td>Texas Instruments TI-83 Graphing Calculator Te...</td>\n",
       "      <td>10.50</td>\n",
       "      <td>2020-08-09</td>\n",
       "    </tr>\n",
       "  </tbody>\n",
       "</table>\n",
       "</div>"
      ],
      "text/plain": [
       "  sale_condition      groupA      groupB                 groupC  \\\n",
       "0        Auction  calculator  calculator  ti-83 plus calculator   \n",
       "1        Auction  calculator  calculator  ti-83 plus calculator   \n",
       "2        Auction  calculator  calculator  ti-83 plus calculator   \n",
       "\n",
       "                                               title  price        date  \n",
       "0   Texas Instruments Ti-83 Plus Graphing Calculator  12.10  2020-08-09  \n",
       "1  TI-83 Plus Graphing Calculator Texas Instruments    3.99  2020-08-09  \n",
       "2  Texas Instruments TI-83 Graphing Calculator Te...  10.50  2020-08-09  "
      ]
     },
     "execution_count": 2,
     "metadata": {},
     "output_type": "execute_result"
    }
   ],
   "source": [
    "aggregate = pd.read_csv(\"aggregate.csv\")\n",
    "aggregate.head(3)"
   ]
  },
  {
   "cell_type": "code",
   "execution_count": 4,
   "id": "e1175962",
   "metadata": {},
   "outputs": [],
   "source": [
    "# filter items with too little values\n",
    "SIZE_MINIMUM = 1000\n",
    "aggregate = aggregate.groupby(\"groupC\").filter(lambda df: df.shape[0] > SIZE_MINIMUM)"
   ]
  },
  {
   "cell_type": "code",
   "execution_count": 5,
   "id": "1930b0ef",
   "metadata": {},
   "outputs": [
    {
     "name": "stdout",
     "output_type": "stream",
     "text": [
      "Items tracked:           190\n",
      "Transactions:            2,482,423\n"
     ]
    }
   ],
   "source": [
    "tabsize = 25\n",
    "print(\"Items tracked:\\t{:,}\".format(len(aggregate[\"groupC\"].unique())).expandtabs(tabsize))\n",
    "print(\"Transactions:\\t{:,}\".format(aggregate.shape[0]).expandtabs(tabsize))"
   ]
  },
  {
   "cell_type": "code",
   "execution_count": 6,
   "id": "69b29db5",
   "metadata": {},
   "outputs": [
    {
     "data": {
      "text/plain": [
       "PlayStation 1                   97394\n",
       "PlayStation 5                   74350\n",
       "PlayStation 4                   62279\n",
       "The Beatles With the Beatles    61902\n",
       "Nintendo DS                     58711\n",
       "                                ...  \n",
       "Nikon D3                         1165\n",
       "Canon EOS 7D Mark II             1143\n",
       "Nikon D810                       1107\n",
       "Leica S                          1103\n",
       "Fujifilm FinePix X Series        1069\n",
       "Name: groupC, Length: 190, dtype: int64"
      ]
     },
     "execution_count": 6,
     "metadata": {},
     "output_type": "execute_result"
    }
   ],
   "source": [
    "aggregate[\"groupC\"].value_counts()"
   ]
  },
  {
   "cell_type": "markdown",
   "id": "f43eb232",
   "metadata": {},
   "source": [
    "## Some questions to investigate\n",
    "\n",
    "1. Which items lose the most value?\n",
    "2. Which items lose a fixed percent of their value the most quickly?\n",
    "3. Which items best retain their value?\n",
    "4. Which items take the longest to lose a fixed percent of their value?"
   ]
  },
  {
   "cell_type": "code",
   "execution_count": null,
   "id": "1f589c0b",
   "metadata": {},
   "outputs": [],
   "source": []
  }
 ],
 "metadata": {
  "kernelspec": {
   "display_name": "Python 3",
   "language": "python",
   "name": "python3"
  },
  "language_info": {
   "codemirror_mode": {
    "name": "ipython",
    "version": 3
   },
   "file_extension": ".py",
   "mimetype": "text/x-python",
   "name": "python",
   "nbconvert_exporter": "python",
   "pygments_lexer": "ipython3",
   "version": "3.8.8"
  }
 },
 "nbformat": 4,
 "nbformat_minor": 5
}
